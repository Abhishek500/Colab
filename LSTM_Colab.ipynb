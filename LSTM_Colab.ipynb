{
  "nbformat": 4,
  "nbformat_minor": 0,
  "metadata": {
    "colab": {
      "name": "LSTM_Colab.ipynb",
      "version": "0.3.2",
      "views": {},
      "default_view": {},
      "provenance": [],
      "collapsed_sections": []
    },
    "kernelspec": {
      "name": "python3",
      "display_name": "Python 3"
    },
    "accelerator": "GPU"
  },
  "cells": [
    {
      "metadata": {
        "id": "G9fkxYnpmW7R",
        "colab_type": "text"
      },
      "cell_type": "markdown",
      "source": [
        "### **Checking gpu instance if any.**"
      ]
    },
    {
      "metadata": {
        "id": "AMP2tukfmc8k",
        "colab_type": "code",
        "colab": {
          "autoexec": {
            "startup": false,
            "wait_interval": 0
          }
        }
      },
      "cell_type": "code",
      "source": [
        "from tensorflow.python.client import device_lib\n",
        "device_lib.list_local_devices()"
      ],
      "execution_count": 0,
      "outputs": []
    },
    {
      "metadata": {
        "id": "wtkkCCTNliU-",
        "colab_type": "text"
      },
      "cell_type": "markdown",
      "source": [
        "# **Imports google and other dependencies**"
      ]
    },
    {
      "metadata": {
        "id": "ZxJ950g6iXF5",
        "colab_type": "code",
        "colab": {
          "autoexec": {
            "startup": false,
            "wait_interval": 0
          }
        }
      },
      "cell_type": "code",
      "source": [
        "from google.colab import auth\n",
        "from googleapiclient.discovery import build"
      ],
      "execution_count": 0,
      "outputs": []
    },
    {
      "metadata": {
        "id": "xE0fqViITMRM",
        "colab_type": "code",
        "colab": {
          "autoexec": {
            "startup": false,
            "wait_interval": 0
          }
        }
      },
      "cell_type": "code",
      "source": [
        "import io , requests\n",
        "import sys\n",
        "\n",
        "import pandas as pd\n",
        "import os"
      ],
      "execution_count": 0,
      "outputs": []
    },
    {
      "metadata": {
        "id": "AaqUlaQ8idHF",
        "colab_type": "code",
        "colab": {
          "autoexec": {
            "startup": false,
            "wait_interval": 0
          }
        }
      },
      "cell_type": "code",
      "source": [
        "auth.authenticate_user()"
      ],
      "execution_count": 0,
      "outputs": []
    },
    {
      "metadata": {
        "id": "aGtfZe-Wif20",
        "colab_type": "code",
        "colab": {
          "autoexec": {
            "startup": false,
            "wait_interval": 0
          }
        }
      },
      "cell_type": "code",
      "source": [
        "from googleapiclient.discovery import build\n",
        "drive_service = build('drive', 'v3')"
      ],
      "execution_count": 0,
      "outputs": []
    },
    {
      "metadata": {
        "id": "0yXoRQi9eCYL",
        "colab_type": "code",
        "colab": {
          "autoexec": {
            "startup": false,
            "wait_interval": 0
          }
        }
      },
      "cell_type": "code",
      "source": [
        "SOURCE_FOLDER='/content/datalab/'"
      ],
      "execution_count": 0,
      "outputs": []
    },
    {
      "metadata": {
        "id": "_O27CAjoZpp_",
        "colab_type": "text"
      },
      "cell_type": "markdown",
      "source": [
        "# ***`Get parent folder function`***"
      ]
    },
    {
      "metadata": {
        "id": "X0XbHGIY1Kiy",
        "colab_type": "code",
        "colab": {
          "autoexec": {
            "startup": false,
            "wait_interval": 0
          }
        }
      },
      "cell_type": "code",
      "source": [
        "def get_parent_folder(folder_name):\n",
        "  page_token = None\n",
        "  folder_array = []\n",
        "  query = \"name='%s' and mimeType='application/vnd.google-apps.folder'\" % folder_name\n",
        "  while True:\n",
        "      response = drive_service.files().list(q=query,\n",
        "                                          spaces='drive',\n",
        "                                          fields='nextPageToken, files(id, name)',\n",
        "                                          pageToken=page_token).execute()\n",
        "      for file in response.get('files', []):\n",
        "          # Process change\n",
        "          #print (file.get('name'), file.get('id'))\n",
        "          folder_array.append({\"name\" : file.get('name'), \"id\" : file.get('id')})\n",
        "      page_token = response.get('nextPageToken', None)\n",
        "      if page_token is None:\n",
        "          break\n",
        "  return folder_array"
      ],
      "execution_count": 0,
      "outputs": []
    },
    {
      "metadata": {
        "id": "wNyMtKwtZ0-8",
        "colab_type": "text"
      },
      "cell_type": "markdown",
      "source": [
        "# **`Get all the files from the parent folder`**"
      ]
    },
    {
      "metadata": {
        "id": "0iriaWwuTkBr",
        "colab_type": "code",
        "colab": {
          "autoexec": {
            "startup": false,
            "wait_interval": 0
          }
        }
      },
      "cell_type": "code",
      "source": [
        "def get_files_from_parent(parent_id):\n",
        "  page_token = None\n",
        "  folder_array = dict()\n",
        "  query = \"'%s' in parents\" % parent_id\n",
        "  while True:\n",
        "      response = drive_service.files().list(q=query,\n",
        "                                          spaces='drive',\n",
        "                                          fields='nextPageToken, files(id, name)',\n",
        "                                          pageToken=page_token).execute()\n",
        "      for file in response.get('files', []):\n",
        "          # Process change\n",
        "          #print (file.get('name'), file.get('id'))\n",
        "          folder_array.update({file.get('name'):file.get('id')})\n",
        "      page_token = response.get('nextPageToken', None)\n",
        "      if page_token is None:\n",
        "          break\n",
        "  return folder_array"
      ],
      "execution_count": 0,
      "outputs": []
    },
    {
      "metadata": {
        "id": "3TAbnvV7adaP",
        "colab_type": "text"
      },
      "cell_type": "markdown",
      "source": [
        "# ***`Download the file from google drive and return the file buffer`***"
      ]
    },
    {
      "metadata": {
        "id": "1_U6OR_ATySN",
        "colab_type": "code",
        "colab": {
          "autoexec": {
            "startup": false,
            "wait_interval": 0
          }
        }
      },
      "cell_type": "code",
      "source": [
        "def get_file_buffer(file_id, verbose=0):\n",
        "  from googleapiclient.http import MediaIoBaseDownload\n",
        "  request = drive_service.files().get_media(fileId=file_id)\n",
        "  downloaded = io.BytesIO()\n",
        "  downloader = MediaIoBaseDownload(downloaded, request)\n",
        "  done = False\n",
        "  while done is False:\n",
        "    # _ is a placeholder for a progress object that we ignore.\n",
        "    # (Our file is small, so we skip reporting progress.)\n",
        "    progress, done = downloader.next_chunk()\n",
        "    if verbose:\n",
        "      sys.stdout.flush()\n",
        "      sys.stdout.write('\\r')\n",
        "      percentage_done = progress.resumable_progress * 100/progress.total_size\n",
        "      sys.stdout.write(\"[%-100s] %d%%\" % ('='*int(percentage_done), int(percentage_done)))\n",
        "  downloaded.seek(0)\n",
        "  return downloaded"
      ],
      "execution_count": 0,
      "outputs": []
    },
    {
      "metadata": {
        "id": "5dI2Meo5apdP",
        "colab_type": "text"
      },
      "cell_type": "markdown",
      "source": [
        "## **Downloading the files and keeping in the local folder.**"
      ]
    },
    {
      "metadata": {
        "id": "SWqOd1PS1fnU",
        "colab_type": "code",
        "colab": {
          "autoexec": {
            "startup": false,
            "wait_interval": 0
          },
          "output_extras": [
            {
              "item_id": 1
            },
            {
              "item_id": 2
            }
          ],
          "base_uri": "https://localhost:8080/",
          "height": 51
        },
        "outputId": "3bdd44ae-2401-4f9d-c299-97da2348bbd9",
        "executionInfo": {
          "status": "ok",
          "timestamp": 1517323896079,
          "user_tz": -330,
          "elapsed": 873,
          "user": {
            "displayName": "Manish Verma",
            "photoUrl": "//lh6.googleusercontent.com/-SGDq1FAxuWs/AAAAAAAAAAI/AAAAAAAAAE8/D0meMQvLC6E/s50-c-k-no/photo.jpg",
            "userId": "103439283870722045691"
          }
        }
      },
      "cell_type": "code",
      "source": [
        "parent_folder = get_parent_folder('Kaggle_comp')\n",
        "print(parent_folder)\n",
        "parent_folder[0][\"id\"]"
      ],
      "execution_count": 51,
      "outputs": [
        {
          "output_type": "stream",
          "text": [
            "[{'name': 'Kaggle_comp', 'id': '1olKu9Hm0dDDlHls6vFEFlXe_wLcUcgfq'}]\n"
          ],
          "name": "stdout"
        },
        {
          "output_type": "execute_result",
          "data": {
            "text/plain": [
              "'1olKu9Hm0dDDlHls6vFEFlXe_wLcUcgfq'"
            ]
          },
          "metadata": {
            "tags": []
          },
          "execution_count": 51
        }
      ]
    },
    {
      "metadata": {
        "id": "qPrKASZY5-Dj",
        "colab_type": "code",
        "colab": {
          "autoexec": {
            "startup": false,
            "wait_interval": 0
          },
          "output_extras": [
            {
              "item_id": 1
            }
          ],
          "base_uri": "https://localhost:8080/",
          "height": 54
        },
        "outputId": "ca7d3d96-148e-4015-d722-effe180fa4de",
        "executionInfo": {
          "status": "ok",
          "timestamp": 1517323902626,
          "user_tz": -330,
          "elapsed": 874,
          "user": {
            "displayName": "Manish Verma",
            "photoUrl": "//lh6.googleusercontent.com/-SGDq1FAxuWs/AAAAAAAAAAI/AAAAAAAAAE8/D0meMQvLC6E/s50-c-k-no/photo.jpg",
            "userId": "103439283870722045691"
          }
        }
      },
      "cell_type": "code",
      "source": [
        "input_file_meta = get_files_from_parent(parent_folder[0][\"id\"])\n",
        "print(input_file_meta)"
      ],
      "execution_count": 52,
      "outputs": [
        {
          "output_type": "stream",
          "text": [
            "{'train.csv': '1SX6kKPsNg2g5uG2ZeDpxGpydG3dSWggi', 'test.csv': '1ZZVWvnyn_4dLkKy-05ZhwU1haQZbezQM', 'sample_submission.csv': '1eZ7rUlzLmgXbipXiRAnhrNGFm5kDAlge', 'glove.6B.50d.txt': '1UJi72JDh9TVfegP2ZIdWjedTmBTaZpbl'}\n"
          ],
          "name": "stdout"
        }
      ]
    },
    {
      "metadata": {
        "id": "BaO2plYPdAuI",
        "colab_type": "code",
        "colab": {
          "autoexec": {
            "startup": false,
            "wait_interval": 0
          },
          "output_extras": [
            {
              "item_id": 282
            },
            {
              "item_id": 473
            }
          ],
          "base_uri": "https://localhost:8080/",
          "height": 173
        },
        "outputId": "a0fde805-b569-4b5e-ba6a-65778fc48456",
        "executionInfo": {
          "status": "ok",
          "timestamp": 1517323339725,
          "user_tz": -330,
          "elapsed": 584173,
          "user": {
            "displayName": "Manish Verma",
            "photoUrl": "//lh6.googleusercontent.com/-SGDq1FAxuWs/AAAAAAAAAAI/AAAAAAAAAE8/D0meMQvLC6E/s50-c-k-no/photo.jpg",
            "userId": "103439283870722045691"
          }
        }
      },
      "cell_type": "code",
      "source": [
        "for file, id in input_file_meta.items():\n",
        "  downloaded = get_file_buffer(id, verbose=1)\n",
        "  dest_file = os.path.join(SOURCE_FOLDER, file)\n",
        "  print(\"processing %s data\" % file)\n",
        "  with open(dest_file, \"wb\") as out:\n",
        "    out.write(downloaded.read())\n",
        "    print(\"Done %s\" % dest_file)\n",
        "  "
      ],
      "execution_count": 33,
      "outputs": [
        {
          "output_type": "stream",
          "text": [
            "[====================================================================================================] 100%processing train.csv data\n",
            "Done /content/datalab/train.csv\n",
            "[====================================================================================================] 100%processing test.csv data\n",
            "Done /content/datalab/test.csv\n",
            "[====================================================================================================] 100%processing sample_submission.csv data\n",
            "Done /content/datalab/sample_submission.csv\n",
            "[=======================                                                                             ] 23%"
          ],
          "name": "stdout"
        },
        {
          "output_type": "stream",
          "text": [
            "[====================================================================================================] 100%processing glove.6B.50d.txt data\n",
            "Done /content/datalab/glove.6B.50d.txt\n"
          ],
          "name": "stdout"
        }
      ]
    },
    {
      "metadata": {
        "id": "YfhGoxjYnRl9",
        "colab_type": "text"
      },
      "cell_type": "markdown",
      "source": [
        "## ***Once Downloaded you do not want to download it again***"
      ]
    },
    {
      "metadata": {
        "id": "dPqxq9mKijY-",
        "colab_type": "code",
        "colab": {
          "autoexec": {
            "startup": false,
            "wait_interval": 0
          },
          "output_extras": [
            {
              "item_id": 1
            }
          ],
          "base_uri": "https://localhost:8080/",
          "height": 119
        },
        "outputId": "9bda9258-a047-4df0-c675-6568f8506517",
        "executionInfo": {
          "status": "ok",
          "timestamp": 1517323715697,
          "user_tz": -330,
          "elapsed": 1120,
          "user": {
            "displayName": "Manish Verma",
            "photoUrl": "//lh6.googleusercontent.com/-SGDq1FAxuWs/AAAAAAAAAAI/AAAAAAAAAE8/D0meMQvLC6E/s50-c-k-no/photo.jpg",
            "userId": "103439283870722045691"
          }
        }
      },
      "cell_type": "code",
      "source": [
        "!ls -ltrh datalab/adc.json"
      ],
      "execution_count": 44,
      "outputs": [
        {
          "output_type": "stream",
          "text": [
            "total 293M\r\n",
            "-rw-r--r-- 1 root root 2.2K Jan 30 14:18 adc.json\r\n",
            "-rw-r--r-- 1 root root  66M Jan 30 14:33 train.csv\r\n",
            "-rw-r--r-- 1 root root  58M Jan 30 14:40 test.csv\r\n",
            "-rw-r--r-- 1 root root 6.0M Jan 30 14:40 sample_submission.csv\r\n",
            "-rw-r--r-- 1 root root 164M Jan 30 14:42 glove.6B.50d.txt\r\n"
          ],
          "name": "stdout"
        }
      ]
    },
    {
      "metadata": {
        "id": "3r0JsOQEmCnC",
        "colab_type": "text"
      },
      "cell_type": "markdown",
      "source": [
        "## **Loading the downloaded file as dataframe for machine learning.**"
      ]
    },
    {
      "metadata": {
        "id": "rRSt4rAdUG-B",
        "colab_type": "code",
        "colab": {
          "autoexec": {
            "startup": false,
            "wait_interval": 0
          }
        }
      },
      "cell_type": "code",
      "source": [
        "EMBEDDING_FILE=os.path.join(SOURCE_FOLDER,'glove.6B.50d.txt')\n",
        "TRAIN_DATA_FILE=os.path.join(SOURCE_FOLDER,'train.csv')\n",
        "TEST_DATA_FILE=os.path.join(SOURCE_FOLDER,'test.csv')\n",
        "SUBMISSION_SAMPLE_FILE=os.path.join(SOURCE_FOLDER,'sample_submission.csv')"
      ],
      "execution_count": 0,
      "outputs": []
    },
    {
      "metadata": {
        "id": "WAP1m214ZQkb",
        "colab_type": "code",
        "colab": {
          "autoexec": {
            "startup": false,
            "wait_interval": 0
          }
        }
      },
      "cell_type": "code",
      "source": [
        "train = pd.read_csv(TRAIN_DATA_FILE)\n",
        "test = pd.read_csv(TEST_DATA_FILE)"
      ],
      "execution_count": 0,
      "outputs": []
    },
    {
      "metadata": {
        "id": "ZoiEmNLEmjWO",
        "colab_type": "text"
      },
      "cell_type": "markdown",
      "source": [
        "***Installing keras if needed.***"
      ]
    },
    {
      "metadata": {
        "id": "iL5RkfGVjgTt",
        "colab_type": "code",
        "colab": {
          "autoexec": {
            "startup": false,
            "wait_interval": 0
          }
        }
      },
      "cell_type": "code",
      "source": [
        "# !pip install keras"
      ],
      "execution_count": 0,
      "outputs": []
    },
    {
      "metadata": {
        "id": "UnyJAwSympoi",
        "colab_type": "text"
      },
      "cell_type": "markdown",
      "source": [
        "**Importing the dependencies for ML**"
      ]
    },
    {
      "metadata": {
        "id": "cWIl56LOcN17",
        "colab_type": "code",
        "colab": {
          "autoexec": {
            "startup": false,
            "wait_interval": 0
          },
          "output_extras": [
            {
              "item_id": 1
            }
          ],
          "base_uri": "https://localhost:8080/",
          "height": 34
        },
        "outputId": "99b7a2d3-1d4a-43ee-c4b5-5b444ac975b4",
        "executionInfo": {
          "status": "ok",
          "timestamp": 1517323957893,
          "user_tz": -330,
          "elapsed": 803,
          "user": {
            "displayName": "Manish Verma",
            "photoUrl": "//lh6.googleusercontent.com/-SGDq1FAxuWs/AAAAAAAAAAI/AAAAAAAAAE8/D0meMQvLC6E/s50-c-k-no/photo.jpg",
            "userId": "103439283870722045691"
          }
        }
      },
      "cell_type": "code",
      "source": [
        "import sys, os, re, csv, codecs, numpy as np, pandas as pd\n",
        "\n",
        "from keras.preprocessing.text import Tokenizer\n",
        "from keras.preprocessing.sequence import pad_sequences\n",
        "from keras.layers import Dense, Input, LSTM, Embedding, Dropout, Activation\n",
        "from keras.layers import Bidirectional, GlobalMaxPool1D\n",
        "from keras.models import Model\n",
        "from keras import initializers, regularizers, constraints, optimizers, layers"
      ],
      "execution_count": 56,
      "outputs": [
        {
          "output_type": "stream",
          "text": [
            "Using TensorFlow backend.\n"
          ],
          "name": "stderr"
        }
      ]
    },
    {
      "metadata": {
        "id": "_PoLT651jbCy",
        "colab_type": "code",
        "colab": {
          "autoexec": {
            "startup": false,
            "wait_interval": 0
          }
        }
      },
      "cell_type": "code",
      "source": [
        "embed_size = 50 # how big is each word vector\n",
        "max_features = 20000 # how many unique words to use (i.e num rows in embedding vector)\n",
        "maxlen = 100 # max number of words in a comment to use"
      ],
      "execution_count": 0,
      "outputs": []
    },
    {
      "metadata": {
        "id": "t2t2nTdUjctL",
        "colab_type": "code",
        "colab": {
          "autoexec": {
            "startup": false,
            "wait_interval": 0
          }
        }
      },
      "cell_type": "code",
      "source": [
        "train = pd.read_csv(TRAIN_DATA_FILE)\n",
        "test = pd.read_csv(TEST_DATA_FILE)\n",
        "\n",
        "list_sentences_train = train[\"comment_text\"].fillna(\"_na_\").values\n",
        "list_classes = [\"toxic\", \"severe_toxic\", \"obscene\", \"threat\", \"insult\", \"identity_hate\"]\n",
        "y = train[list_classes].values\n",
        "list_sentences_test = test[\"comment_text\"].fillna(\"_na_\").values"
      ],
      "execution_count": 0,
      "outputs": []
    },
    {
      "metadata": {
        "id": "11m0zyudjowM",
        "colab_type": "code",
        "colab": {
          "autoexec": {
            "startup": false,
            "wait_interval": 0
          }
        }
      },
      "cell_type": "code",
      "source": [
        "tokenizer = Tokenizer(num_words=max_features)\n",
        "tokenizer.fit_on_texts(list(list_sentences_train))\n",
        "list_tokenized_train = tokenizer.texts_to_sequences(list_sentences_train)\n",
        "list_tokenized_test = tokenizer.texts_to_sequences(list_sentences_test)\n",
        "X_t = pad_sequences(list_tokenized_train, maxlen=maxlen)\n",
        "X_te = pad_sequences(list_tokenized_test, maxlen=maxlen)"
      ],
      "execution_count": 0,
      "outputs": []
    },
    {
      "metadata": {
        "id": "oJNzgMUtjrYS",
        "colab_type": "code",
        "colab": {
          "autoexec": {
            "startup": false,
            "wait_interval": 0
          }
        }
      },
      "cell_type": "code",
      "source": [
        "def get_coefs(word,*arr): return word, np.asarray(arr, dtype='float32')\n",
        "embeddings_index = dict(get_coefs(*o.strip().split()) for o in open(EMBEDDING_FILE))"
      ],
      "execution_count": 0,
      "outputs": []
    },
    {
      "metadata": {
        "id": "lLUWrobVj0-o",
        "colab_type": "code",
        "colab": {
          "autoexec": {
            "startup": false,
            "wait_interval": 0
          },
          "output_extras": [
            {
              "item_id": 1
            }
          ],
          "base_uri": "https://localhost:8080/",
          "height": 34
        },
        "outputId": "fbd2e12b-cdf7-47fc-8e68-c5f6e389f5e1",
        "executionInfo": {
          "status": "ok",
          "timestamp": 1517324056952,
          "user_tz": -330,
          "elapsed": 1327,
          "user": {
            "displayName": "Manish Verma",
            "photoUrl": "//lh6.googleusercontent.com/-SGDq1FAxuWs/AAAAAAAAAAI/AAAAAAAAAE8/D0meMQvLC6E/s50-c-k-no/photo.jpg",
            "userId": "103439283870722045691"
          }
        }
      },
      "cell_type": "code",
      "source": [
        "all_embs = np.stack(embeddings_index.values())\n",
        "emb_mean,emb_std = all_embs.mean(), all_embs.std()\n",
        "emb_mean,emb_std"
      ],
      "execution_count": 61,
      "outputs": [
        {
          "output_type": "execute_result",
          "data": {
            "text/plain": [
              "(0.020940498, 0.6441043)"
            ]
          },
          "metadata": {
            "tags": []
          },
          "execution_count": 61
        }
      ]
    },
    {
      "metadata": {
        "id": "P9CrcTi1j7Qb",
        "colab_type": "code",
        "colab": {
          "autoexec": {
            "startup": false,
            "wait_interval": 0
          }
        }
      },
      "cell_type": "code",
      "source": [
        "word_index = tokenizer.word_index\n",
        "nb_words = min(max_features, len(word_index))\n",
        "embedding_matrix = np.random.normal(emb_mean, emb_std, (nb_words, embed_size))\n",
        "for word, i in word_index.items():\n",
        "    if i >= max_features: continue\n",
        "    embedding_vector = embeddings_index.get(word)\n",
        "    if embedding_vector is not None: embedding_matrix[i] = embedding_vector"
      ],
      "execution_count": 0,
      "outputs": []
    },
    {
      "metadata": {
        "id": "PyQI6H25j-U7",
        "colab_type": "code",
        "colab": {
          "autoexec": {
            "startup": false,
            "wait_interval": 0
          }
        }
      },
      "cell_type": "code",
      "source": [
        "inp = Input(shape=(maxlen,))\n",
        "x = Embedding(max_features, embed_size, weights=[embedding_matrix])(inp)\n",
        "x = Bidirectional(LSTM(50, return_sequences=True, dropout=0.1, recurrent_dropout=0.1))(x)\n",
        "x = GlobalMaxPool1D()(x)\n",
        "x = Dense(50, activation=\"relu\")(x)\n",
        "x = Dropout(0.1)(x)\n",
        "x = Dense(6, activation=\"sigmoid\")(x)\n",
        "model = Model(inputs=inp, outputs=x)\n",
        "model.compile(loss='binary_crossentropy', optimizer='adam', metrics=['accuracy'])"
      ],
      "execution_count": 0,
      "outputs": []
    },
    {
      "metadata": {
        "id": "xNzZLM-ikHwQ",
        "colab_type": "code",
        "colab": {
          "autoexec": {
            "startup": false,
            "wait_interval": 0
          },
          "output_extras": [
            {
              "item_id": 1
            }
          ],
          "base_uri": "https://localhost:8080/",
          "height": 374
        },
        "outputId": "3d7eee87-7e06-4976-ab72-561532de8660",
        "executionInfo": {
          "status": "ok",
          "timestamp": 1517324119427,
          "user_tz": -330,
          "elapsed": 868,
          "user": {
            "displayName": "Manish Verma",
            "photoUrl": "//lh6.googleusercontent.com/-SGDq1FAxuWs/AAAAAAAAAAI/AAAAAAAAAE8/D0meMQvLC6E/s50-c-k-no/photo.jpg",
            "userId": "103439283870722045691"
          }
        }
      },
      "cell_type": "code",
      "source": [
        "model.summary()"
      ],
      "execution_count": 64,
      "outputs": [
        {
          "output_type": "stream",
          "text": [
            "_________________________________________________________________\n",
            "Layer (type)                 Output Shape              Param #   \n",
            "=================================================================\n",
            "input_1 (InputLayer)         (None, 100)               0         \n",
            "_________________________________________________________________\n",
            "embedding_1 (Embedding)      (None, 100, 50)           1000000   \n",
            "_________________________________________________________________\n",
            "bidirectional_1 (Bidirection (None, 100, 100)          40400     \n",
            "_________________________________________________________________\n",
            "global_max_pooling1d_1 (Glob (None, 100)               0         \n",
            "_________________________________________________________________\n",
            "dense_1 (Dense)              (None, 50)                5050      \n",
            "_________________________________________________________________\n",
            "dropout_1 (Dropout)          (None, 50)                0         \n",
            "_________________________________________________________________\n",
            "dense_2 (Dense)              (None, 6)                 306       \n",
            "=================================================================\n",
            "Total params: 1,045,756\n",
            "Trainable params: 1,045,756\n",
            "Non-trainable params: 0\n",
            "_________________________________________________________________\n"
          ],
          "name": "stdout"
        }
      ]
    },
    {
      "metadata": {
        "id": "eRaVwsAskKnv",
        "colab_type": "code",
        "colab": {
          "autoexec": {
            "startup": false,
            "wait_interval": 0
          },
          "output_extras": [
            {
              "item_id": 157
            },
            {
              "item_id": 158
            }
          ],
          "base_uri": "https://localhost:8080/",
          "height": 68
        },
        "outputId": "2542e2b9-de40-48fb-eabe-d31e200f6b92",
        "executionInfo": {
          "status": "ok",
          "timestamp": 1517324237182,
          "user_tz": -330,
          "elapsed": 79490,
          "user": {
            "displayName": "Manish Verma",
            "photoUrl": "//lh6.googleusercontent.com/-SGDq1FAxuWs/AAAAAAAAAAI/AAAAAAAAAE8/D0meMQvLC6E/s50-c-k-no/photo.jpg",
            "userId": "103439283870722045691"
          }
        }
      },
      "cell_type": "code",
      "source": [
        "model.fit(X_t, y, batch_size=1024, epochs=1) # validation_split=0.1);"
      ],
      "execution_count": 65,
      "outputs": [
        {
          "output_type": "stream",
          "text": [
            "Epoch 1/1\n",
            "159571/159571 [==============================] - 76s 477us/step - loss: 0.1430 - acc: 0.9630\n"
          ],
          "name": "stdout"
        },
        {
          "output_type": "execute_result",
          "data": {
            "text/plain": [
              "<keras.callbacks.History at 0x7fb7cc6b6828>"
            ]
          },
          "metadata": {
            "tags": []
          },
          "execution_count": 65
        }
      ]
    },
    {
      "metadata": {
        "id": "cYoouCtYkULO",
        "colab_type": "code",
        "colab": {
          "autoexec": {
            "startup": false,
            "wait_interval": 0
          },
          "output_extras": [
            {
              "item_id": 483
            },
            {
              "item_id": 969
            },
            {
              "item_id": 1095
            },
            {
              "item_id": 1096
            }
          ],
          "base_uri": "https://localhost:8080/",
          "height": 292
        },
        "outputId": "38e8e5d3-bee4-4afa-fccc-4e1f6bfb8527",
        "executionInfo": {
          "status": "ok",
          "timestamp": 1517324818087,
          "user_tz": -330,
          "elapsed": 527836,
          "user": {
            "displayName": "Manish Verma",
            "photoUrl": "//lh6.googleusercontent.com/-SGDq1FAxuWs/AAAAAAAAAAI/AAAAAAAAAE8/D0meMQvLC6E/s50-c-k-no/photo.jpg",
            "userId": "103439283870722045691"
          }
        }
      },
      "cell_type": "code",
      "source": [
        "model.fit(X_t, y, batch_size=1024, epochs=7) # validation_split=0.1);"
      ],
      "execution_count": 66,
      "outputs": [
        {
          "output_type": "stream",
          "text": [
            "Epoch 1/7\n",
            "159571/159571 [==============================] - 75s 472us/step - loss: 0.0622 - acc: 0.9786\n",
            "Epoch 2/7\n",
            "159571/159571 [==============================] - 75s 472us/step - loss: 0.0536 - acc: 0.9809\n",
            "Epoch 3/7\n",
            "159571/159571 [==============================] - 75s 471us/step - loss: 0.0495 - acc: 0.9821\n",
            "Epoch 4/7\n",
            " 15360/159571 [=>............................] - ETA: 1:07 - loss: 0.0476 - acc: 0.9823"
          ],
          "name": "stdout"
        },
        {
          "output_type": "stream",
          "text": [
            "159571/159571 [==============================] - 75s 472us/step - loss: 0.0467 - acc: 0.9826\n",
            "Epoch 5/7\n",
            "159571/159571 [==============================] - 75s 472us/step - loss: 0.0447 - acc: 0.9833\n",
            "Epoch 6/7\n",
            "159571/159571 [==============================] - 75s 472us/step - loss: 0.0431 - acc: 0.9837\n",
            "Epoch 7/7\n",
            " 30720/159571 [====>.........................] - ETA: 1:01 - loss: 0.0425 - acc: 0.9838"
          ],
          "name": "stdout"
        },
        {
          "output_type": "stream",
          "text": [
            "159571/159571 [==============================] - 75s 472us/step - loss: 0.0418 - acc: 0.9841\n"
          ],
          "name": "stdout"
        },
        {
          "output_type": "execute_result",
          "data": {
            "text/plain": [
              "<keras.callbacks.History at 0x7fb7ca53eeb8>"
            ]
          },
          "metadata": {
            "tags": []
          },
          "execution_count": 66
        }
      ]
    },
    {
      "metadata": {
        "id": "uOggwCu6m5Cm",
        "colab_type": "code",
        "colab": {
          "autoexec": {
            "startup": false,
            "wait_interval": 0
          }
        }
      },
      "cell_type": "code",
      "source": [
        "model.save(os.path.join(SOURCE_FOLDER,'lstm.h5'))"
      ],
      "execution_count": 0,
      "outputs": []
    },
    {
      "metadata": {
        "id": "wlnR12skm6mV",
        "colab_type": "code",
        "colab": {
          "autoexec": {
            "startup": false,
            "wait_interval": 0
          },
          "output_extras": [
            {
              "item_id": 1
            }
          ],
          "base_uri": "https://localhost:8080/",
          "height": 153
        },
        "outputId": "3ee88bf4-b03e-442f-a8c2-5b51c7844ead",
        "executionInfo": {
          "status": "ok",
          "timestamp": 1517325175256,
          "user_tz": -330,
          "elapsed": 1258,
          "user": {
            "displayName": "Manish Verma",
            "photoUrl": "//lh6.googleusercontent.com/-SGDq1FAxuWs/AAAAAAAAAAI/AAAAAAAAAE8/D0meMQvLC6E/s50-c-k-no/photo.jpg",
            "userId": "103439283870722045691"
          }
        }
      },
      "cell_type": "code",
      "source": [
        "!ls -ltrh datalab/"
      ],
      "execution_count": 78,
      "outputs": [
        {
          "output_type": "stream",
          "text": [
            "total 326M\r\n",
            "-rw-r--r-- 1 root root 2.2K Jan 30 14:18 adc.json\r\n",
            "-rw-r--r-- 1 root root  66M Jan 30 14:33 train.csv\r\n",
            "-rw-r--r-- 1 root root  58M Jan 30 14:40 test.csv\r\n",
            "-rw-r--r-- 1 root root 6.0M Jan 30 14:40 sample_submission.csv\r\n",
            "-rw-r--r-- 1 root root 164M Jan 30 14:42 glove.6B.50d.txt\r\n",
            "-rw-r--r-- 1 root root  13M Jan 30 15:07 lstm.h5\r\n",
            "-rw-r--r-- 1 root root  22M Jan 30 15:12 my_submission.csv\r\n"
          ],
          "name": "stdout"
        }
      ]
    },
    {
      "metadata": {
        "id": "spG1YP6doCIs",
        "colab_type": "code",
        "colab": {
          "autoexec": {
            "startup": false,
            "wait_interval": 0
          },
          "output_extras": [
            {
              "item_id": 51
            }
          ],
          "base_uri": "https://localhost:8080/",
          "height": 34
        },
        "outputId": "224ebde2-758f-4cec-a2f7-2d81c3052c42",
        "executionInfo": {
          "status": "ok",
          "timestamp": 1517325154462,
          "user_tz": -330,
          "elapsed": 16906,
          "user": {
            "displayName": "Manish Verma",
            "photoUrl": "//lh6.googleusercontent.com/-SGDq1FAxuWs/AAAAAAAAAAI/AAAAAAAAAE8/D0meMQvLC6E/s50-c-k-no/photo.jpg",
            "userId": "103439283870722045691"
          }
        }
      },
      "cell_type": "code",
      "source": [
        "y_test = model.predict([X_te], batch_size=1024, verbose=1)"
      ],
      "execution_count": 76,
      "outputs": [
        {
          "output_type": "stream",
          "text": [
            "153164/153164 [==============================] - 16s 105us/step\n"
          ],
          "name": "stdout"
        }
      ]
    },
    {
      "metadata": {
        "id": "9RPl_LXJm8bc",
        "colab_type": "code",
        "colab": {
          "autoexec": {
            "startup": false,
            "wait_interval": 0
          }
        }
      },
      "cell_type": "code",
      "source": [
        "sample_submission = pd.read_csv(SUBMISSION_SAMPLE_FILE)\n",
        "my_submission = os.path.join(SOURCE_FOLDER, \"my_submission.csv\")\n",
        "sample_submission[list_classes] = y_test\n",
        "sample_submission.to_csv(my_submission, index=False)"
      ],
      "execution_count": 0,
      "outputs": []
    },
    {
      "metadata": {
        "id": "DUgXPT30nPjy",
        "colab_type": "code",
        "colab": {
          "autoexec": {
            "startup": false,
            "wait_interval": 0
          },
          "output_extras": [
            {
              "item_id": 1
            }
          ],
          "base_uri": "https://localhost:8080/",
          "height": 187
        },
        "outputId": "1bc94aa7-81ea-4b7e-c78d-9bcaff1c543d",
        "executionInfo": {
          "status": "ok",
          "timestamp": 1517325206200,
          "user_tz": -330,
          "elapsed": 958,
          "user": {
            "displayName": "Manish Verma",
            "photoUrl": "//lh6.googleusercontent.com/-SGDq1FAxuWs/AAAAAAAAAAI/AAAAAAAAAE8/D0meMQvLC6E/s50-c-k-no/photo.jpg",
            "userId": "103439283870722045691"
          }
        }
      },
      "cell_type": "code",
      "source": [
        "!head datalab/my_submission.csv"
      ],
      "execution_count": 79,
      "outputs": [
        {
          "output_type": "stream",
          "text": [
            "id,toxic,severe_toxic,obscene,threat,insult,identity_hate\r\n",
            "00001cee341fdb12,0.9813286066055298,0.32150861620903015,0.9645172357559204,0.06272788345813751,0.8748438358306885,0.24955222010612488\r\n",
            "0000247867823ef7,0.00016412425611633807,3.433727329138492e-07,0.00011456113134045154,3.0945102480472997e-06,2.8234480851097032e-05,5.867563231731765e-06\r\n",
            "00013b17ad220c46,0.0009202632354572415,2.9844879918528022e-06,0.000265269773080945,1.999957748921588e-05,0.0001547763531561941,2.0764724467881024e-05\r\n",
            "00017563c3f7919a,0.00026241716113872826,3.0800524086771475e-07,7.621410622959957e-05,2.838007048922009e-06,4.035261372337118e-05,2.7426312954048626e-06\r\n",
            "00017695ad8997eb,0.0018909960053861141,3.7926963614154374e-06,0.00037204561522230506,2.3830991267459467e-05,0.00025817350251600146,2.8350983484415337e-05\r\n",
            "0001ea8717f6de06,0.00031233043409883976,3.449679013556306e-07,7.782545435475186e-05,2.9242271466500824e-06,3.848387495963834e-05,3.7007250739407027e-06\r\n",
            "00024115d4cbde0f,0.000926559092476964,8.436211942353111e-07,0.00014417791680898517,6.088812824600609e-06,0.00011209591320948675,7.031538189039566e-06\r\n",
            "000247e83dcc1211,0.7236515879631042,0.005675200838595629,0.04885596036911011,0.015663810074329376,0.1716660112142563,0.007252989802509546\r\n",
            "00025358d4737918,0.027008481323719025,5.5006021284498274e-05,0.007849643938243389,0.00013537536142393947,0.005357760936021805,0.0002448856830596924\r\n"
          ],
          "name": "stdout"
        }
      ]
    },
    {
      "metadata": {
        "id": "TDj5aNzao3zW",
        "colab_type": "text"
      },
      "cell_type": "markdown",
      "source": [
        "### **Downloading the submission.csv for uploading to kaggle.**\n",
        "\n",
        "---\n",
        "\n",
        "This will download the given file to your local system."
      ]
    },
    {
      "metadata": {
        "id": "ldpMSfz8nxz2",
        "colab_type": "code",
        "colab": {
          "autoexec": {
            "startup": false,
            "wait_interval": 0
          }
        }
      },
      "cell_type": "code",
      "source": [
        "from google.colab import files\n",
        "files.download(my_submission)"
      ],
      "execution_count": 0,
      "outputs": []
    }
  ]
}